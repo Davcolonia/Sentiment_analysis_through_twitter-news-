{
 "cells": [
  {
   "cell_type": "code",
   "execution_count": 1,
   "metadata": {},
   "outputs": [],
   "source": [
    "import tweepy\n",
    "import json \n",
    "import pandas as pd\n",
    "import numpy as np \n",
    "import matplotlib.pyplot as plt \n",
    "from datetime import datetime\n",
    "import os \n",
    "import time \n",
    "\n",
    "from vaderSentiment.vaderSentiment import SentimentIntensityAnalyzer\n",
    "analyzer = SentimentIntensityAnalyzer()\n",
    "from config import (consumer_key,\n",
    "                   consumer_secret,\n",
    "                   access_token, \n",
    "                   access_token_secret)\n",
    "\n",
    "auth = tweepy.OAuthHandler(consumer_key, consumer_secret)\n",
    "auth.set_access_token(access_token, access_token_secret)\n",
    "api = tweepy.API(auth, parser=tweepy.parsers.JSONParser())\n"
   ]
  },
  {
   "cell_type": "code",
   "execution_count": 2,
   "metadata": {},
   "outputs": [],
   "source": [
    "def tweet_request(tweet, tweet_data=dict()):\n",
    "    tweet_data = []\n",
    "    tweet_id = tweet['id']\n",
    "    tweet_user = tweet['user']['screen_name']\n",
    "    tweet_requests = []\n",
    "    for mentions in tweet['entities']['user_mentions']:\n",
    "        if(mentions['screen_name'] != \"PySentimentBot\"):\n",
    "            tweet_requests.append(mentions[\"screen_name\"])\n",
    "            \n",
    "    tweet_dict = {\"id\":tweet_id, \"user\":tweet_user,\"analysis_requests\":tweet_requests}\n",
    "    return tweet_dict\n",
    "    "
   ]
  },
  {
   "cell_type": "code",
   "execution_count": 3,
   "metadata": {},
   "outputs": [],
   "source": [
    "def analyze_sentiments(recent_tweets, sentiment_results= list()):\n",
    "    sentiment_results = []\n",
    "    for tweet in recent_tweets: \n",
    "        new_tweet = cleanse_tweet(tweet)\n",
    "        sentiment_tweet = analyzer.polarity_scores(new_tweet[\"text\"])\n",
    "        sentiment_tweet.update({\"tweet_id\":new_tweet[\"id\"]})\n",
    "        sentiment_tweet.append(sentiment_result)\n",
    "    return sentiment_results"
   ]
  },
  {
   "cell_type": "code",
   "execution_count": 4,
   "metadata": {},
   "outputs": [],
   "source": [
    "def color_map(value):\n",
    "    if(value >= 0): \n",
    "        return 'g'\n",
    "    else:\n",
    "        return 'r'\n",
    "\n",
    "def plot_sentiments(title,sentiments):\n",
    "    df = pd.DataFrame(sentiments)\n",
    "    df = df.reset_index()\n",
    "    df.plot( 'index', 'compound', linestyle='-', marker='o',alpha=0.75)\n",
    "    plt.ylabel(\"Sentiment score\")\n",
    "    plt.xlabel(\"Tweets\")\n",
    "    plt.title(title)\n",
    "    \n",
    "    filename = \"SentimentAnalysis_of_\"+title+\".png\"\n",
    "    plt.savefig(filename)\n",
    "    plt.show()\n",
    "    \n",
    "    return filename "
   ]
  },
  {
   "cell_type": "code",
   "execution_count": 5,
   "metadata": {},
   "outputs": [],
   "source": [
    "def scan_requests(since_tweet_id):\n",
    "    total_tweets = 0 \n",
    "    last_tweet = since_tweet_id\n",
    "    search_handle = ''\n",
    "    results = api.mentions_timeline(since_tweet_id)\n",
    "    \n",
    "    if(len(results) > 0):\n",
    "        tweet_data = []\n",
    "        \n",
    "        for tweet in results:\n",
    "            parsed_tweet = pare_requests(tweet)\n",
    "            last_tweet_id = tweet['id']\n",
    "            tweet_data.append(parsed_tweet)\n",
    "            \n",
    "        for item in tweet_data:\n",
    "            \n",
    "            recent_tweets = []\n",
    "            for analyze_requests in item[\"analysis_requests\"]:\n",
    "                recent_tweets = api.user_timeline(analyze_requests, count = 200)\n",
    "                print(f\"{analyze_request} - {len(recent_tweets)}\")\n",
    "                \n",
    "                if(len(recent_tweets) > 0):\n",
    "                    sentiments = analyze_sentiments(recent_tweets)\n",
    "                    sentiment_fig = plot_sentiments(analyze_requests, sentiments)\n",
    "                    text_status = f\"{datetime.now()} - Thank you for your tweet @{item['user']}! Here is the sentiment analysis of {analyze_request}!\"\n",
    "                    api.update_with_media(filename=sentiment_fig,status=text_status,in_reply_to_status_id=item[\"id\"])\n",
    "                else: \n",
    "                    text_status = f\"{datetime.now()} Thank you for your tweet @{item['user']}! Sorry, {analyze_request} has no tweets!\" \n",
    "                    api.update_status(text_status)\n",
    "                    \n",
    "                    total_tweets_so_far = total_tweets_so_far + 1\n",
    "                plt.show()\n",
    "            return last_tweet_id\n",
    "        else:\n",
    "            return last_tweet_id\n",
    "                    "
   ]
  },
  {
   "cell_type": "code",
   "execution_count": null,
   "metadata": {},
   "outputs": [],
   "source": [
    "since_tweet_id = 1020094176736579584\n",
    "\n",
    "while True:\n",
    "    time.sleep(30)\n",
    "    since_tweet_id = scan_requests(since_tweet_id) "
   ]
  },
  {
   "cell_type": "code",
   "execution_count": null,
   "metadata": {},
   "outputs": [],
   "source": [
    "WSJ - 200"
   ]
  },
  {
   "cell_type": "code",
   "execution_count": null,
   "metadata": {},
   "outputs": [],
   "source": [
    "CocaCola - 200"
   ]
  },
  {
   "cell_type": "code",
   "execution_count": null,
   "metadata": {},
   "outputs": [],
   "source": []
  }
 ],
 "metadata": {
  "kernelspec": {
   "display_name": "Python 3",
   "language": "python",
   "name": "python3"
  },
  "language_info": {
   "codemirror_mode": {
    "name": "ipython",
    "version": 3
   },
   "file_extension": ".py",
   "mimetype": "text/x-python",
   "name": "python",
   "nbconvert_exporter": "python",
   "pygments_lexer": "ipython3",
   "version": "3.6.5"
  }
 },
 "nbformat": 4,
 "nbformat_minor": 2
}
